{
  "nbformat": 4,
  "nbformat_minor": 0,
  "metadata": {
    "colab": {
      "provenance": []
    },
    "kernelspec": {
      "name": "python3",
      "display_name": "Python 3"
    },
    "language_info": {
      "name": "python"
    }
  },
  "cells": [
    {
      "cell_type": "markdown",
      "source": [
        "Write a function that calculates the area of a rectangle given its length and width.\n",
        "\n",
        "Description: Create a function that takes two parameters, length and width, and returns the area of the rectangle calculated using the formula: area = length * width.\n"
      ],
      "metadata": {
        "id": "1KttF18OlOBP"
      }
    },
    {
      "cell_type": "code",
      "source": [
        "def rectangle_area(length, width):\n",
        "    return length * width"
      ],
      "metadata": {
        "id": "DI5r-TjOrgjL"
      },
      "execution_count": null,
      "outputs": []
    },
    {
      "cell_type": "markdown",
      "source": [
        "Create a function that converts temperature from Celsius to Fahrenheit.\n",
        "\n",
        "Description: Define a function that accepts a temperature value in Celsius and returns its equivalent in Fahrenheit using the conversion formula: Fahrenheit = (Celsius * 9/5) + 32.\n"
      ],
      "metadata": {
        "id": "0y-44RhPr1K3"
      }
    },
    {
      "cell_type": "code",
      "source": [
        "def celsius_to_fahrenheit(celsius):\n",
        "    return (celsius * 9/5) + 32\n"
      ],
      "metadata": {
        "id": "YcyijEnir5U9"
      },
      "execution_count": null,
      "outputs": []
    },
    {
      "cell_type": "markdown",
      "source": [
        "Write a function to find the factorial of a number.\n",
        "\n",
        "Description: Implement a function that computes the factorial of a given number using recursion or iteration."
      ],
      "metadata": {
        "id": "GIhYeBcvr-iC"
      }
    },
    {
      "cell_type": "code",
      "source": [
        "def factorial(n):\n",
        "    if n == 0 or n == 1:\n",
        "        return 1\n",
        "    else:\n",
        "        return n * factorial(n - 1)\n"
      ],
      "metadata": {
        "id": "nh1-B1-ysMIR"
      },
      "execution_count": null,
      "outputs": []
    },
    {
      "cell_type": "markdown",
      "source": [
        "Design a function to check if a given number is prime.\n",
        "\n",
        "Description: Develop a function that determines whether a given number is prime or not. A prime number is a natural number greater than 1 that has no positive divisors other than 1 and itself."
      ],
      "metadata": {
        "id": "aaramzxwspUW"
      }
    },
    {
      "cell_type": "code",
      "source": [
        "def is_prime(number):\n",
        "    if number <= 1:\n",
        "        return False\n",
        "    if number <= 3:\n",
        "        return True\n",
        "    if number % 2 == 0 or number % 3 == 0:\n",
        "        return False\n",
        "    i = 5\n",
        "    while i * i <= number:\n",
        "        if number % i == 0 or number % (i + 2) == 0:\n",
        "            return False\n",
        "        i += 6\n",
        "    return True"
      ],
      "metadata": {
        "id": "NxOSH4Z6tTCV"
      },
      "execution_count": null,
      "outputs": []
    },
    {
      "cell_type": "markdown",
      "source": [
        " Create a function that reverses a given string.\n",
        "\n",
        "Description: Define a function that takes a string as input and returns its reverse. For example, \"hello\" should be returned as \"olleh\"."
      ],
      "metadata": {
        "id": "QXalwo-RtfxI"
      }
    },
    {
      "cell_type": "code",
      "source": [
        "def reverse_string(s):\n",
        "    return s[::-1]\n"
      ],
      "metadata": {
        "id": "Bf1iYxO9tjrT"
      },
      "execution_count": null,
      "outputs": []
    },
    {
      "cell_type": "markdown",
      "source": [
        "Write a function to compute the nth Fibonacci number.\n",
        "\n",
        "Description: Implement a function that returns the nth Fibonacci number, where Fibonacci sequence starts with 0 and 1, and each subsequent number is the sum of the previous two."
      ],
      "metadata": {
        "id": "Ck7egJXtt5Ru"
      }
    },
    {
      "cell_type": "code",
      "source": [
        "def fibonacci_recursive(n):\n",
        "    if n <= 0:\n",
        "        return 0\n",
        "    elif n == 1:\n",
        "        return 1\n",
        "    else:\n",
        "        return fibonacci_recursive(n - 1) + fibonacci_recursive(n - 2)"
      ],
      "metadata": {
        "id": "6BobCdIzt-bn"
      },
      "execution_count": null,
      "outputs": []
    },
    {
      "cell_type": "markdown",
      "source": [
        "Create a function to find the largest element in a list.\n",
        "\n",
        "Description: Develop a function that takes a list of numbers as input and returns the largest element present in the list."
      ],
      "metadata": {
        "id": "OF5OcofluNFa"
      }
    },
    {
      "cell_type": "code",
      "source": [
        "def find_largest_element(numbers):\n",
        "    if not numbers:\n",
        "        return None\n",
        "    largest = numbers[0]\n",
        "    for num in numbers:\n",
        "        if num > largest:\n",
        "            largest = num\n",
        "    return largest\n"
      ],
      "metadata": {
        "id": "wSbSyDwjuToy"
      },
      "execution_count": null,
      "outputs": []
    },
    {
      "cell_type": "markdown",
      "source": [
        "Design a function to count the number of vowels in a string.\n",
        "\n",
        "Description: Define a function that counts and returns the number of vowels (a, e, i, o, u) present in a given string."
      ],
      "metadata": {
        "id": "lqxPi3NvueP7"
      }
    },
    {
      "cell_type": "code",
      "source": [
        "def count_vowels(s):\n",
        "    vowels = \"aeiouAEIOU\"\n",
        "    count = 0\n",
        "    for char in s:\n",
        "        if char in vowels:\n",
        "            count += 1\n",
        "    return count\n"
      ],
      "metadata": {
        "id": "lxsw0ASgul2q"
      },
      "execution_count": null,
      "outputs": []
    },
    {
      "cell_type": "markdown",
      "source": [
        "Write a function to calculate the factorial of each number in a given list.\n",
        "\n",
        "Description: Create a function that accepts a list of numbers as input and returns a new list containing the factorial of each number in the original list."
      ],
      "metadata": {
        "id": "uwp5VXF0vCW0"
      }
    },
    {
      "cell_type": "code",
      "source": [
        "import math\n",
        "\n",
        "def factorial_list(numbers):\n",
        "    return [math.factorial(num) for num in numbers]\n"
      ],
      "metadata": {
        "id": "ziWB1SIqvF0y"
      },
      "execution_count": null,
      "outputs": []
    },
    {
      "cell_type": "markdown",
      "source": [
        "Create a function to check if a string is a palindrome.\n",
        "\n",
        "Description: Implement a function that checks whether a given string is a palindrome or not. A palindrome is a string that reads the same forwards and backwards."
      ],
      "metadata": {
        "id": "lTAe--SkvLeX"
      }
    },
    {
      "cell_type": "code",
      "source": [
        "def is_palindrome(s):\n",
        "    cleaned_string = ''.join(char.lower() for char in s if char.isalnum())\n",
        "    return cleaned_string == cleaned_string[::-1]\n"
      ],
      "metadata": {
        "id": "_iDq1EqmvPLs"
      },
      "execution_count": null,
      "outputs": []
    }
  ]
}