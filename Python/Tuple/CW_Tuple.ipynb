{
  "nbformat": 4,
  "nbformat_minor": 0,
  "metadata": {
    "colab": {
      "provenance": []
    },
    "kernelspec": {
      "name": "python3",
      "display_name": "Python 3"
    },
    "language_info": {
      "name": "python"
    }
  },
  "cells": [
    {
      "cell_type": "markdown",
      "source": [
        "Question no 1: Given a tuple my_tuple = (10, 20, 30, 40, 50), how can you access the element 30 from the tuple using positive indexing? Write a Python program to achieve this."
      ],
      "metadata": {
        "id": "dNruDJbmQsgm"
      }
    },
    {
      "cell_type": "code",
      "source": [
        "my_tuple = (10, 20, 30, 40, 50)\n",
        "my_tuple[2]"
      ],
      "metadata": {
        "colab": {
          "base_uri": "https://localhost:8080/"
        },
        "id": "duOiIw8sQvAH",
        "outputId": "5bf61e08-ea18-4064-f1c9-e288e9ab740c"
      },
      "execution_count": null,
      "outputs": [
        {
          "output_type": "execute_result",
          "data": {
            "text/plain": [
              "30"
            ]
          },
          "metadata": {},
          "execution_count": 1
        }
      ]
    },
    {
      "cell_type": "markdown",
      "source": [
        "Question no 2: Suppose you have a tuple my_tuple = (15, 25, 35, 45, 55), how can you access the element 45 from the tuple using negative indexing? Write a Python program to achieve this."
      ],
      "metadata": {
        "id": "SxTe_VV7RC4i"
      }
    },
    {
      "cell_type": "code",
      "execution_count": null,
      "metadata": {
        "colab": {
          "base_uri": "https://localhost:8080/"
        },
        "id": "OWnPLHLUQnRM",
        "outputId": "f66234aa-16cf-4015-a735-00f7365100e6"
      },
      "outputs": [
        {
          "output_type": "execute_result",
          "data": {
            "text/plain": [
              "45"
            ]
          },
          "metadata": {},
          "execution_count": 2
        }
      ],
      "source": [
        " my_tuple = (15, 25, 35, 45, 55)\n",
        " my_tuple[-2]"
      ]
    },
    {
      "cell_type": "markdown",
      "source": [
        "Question no 3: Given a tuple my_tuple = (1, 2, 3, (4, 5, 6)), how can you access the element 5 from the nested tuple within it using nested indexing? Write a Python program to achieve this."
      ],
      "metadata": {
        "id": "r4UVdEkURX_N"
      }
    },
    {
      "cell_type": "code",
      "source": [
        "my_tuple = (1, 2, 3, (4, 5, 6))\n",
        "my_tuple[3][1]"
      ],
      "metadata": {
        "colab": {
          "base_uri": "https://localhost:8080/"
        },
        "id": "cgcpAMA-RbTt",
        "outputId": "94b1fd2e-b62f-448e-e18d-5d3225da02e5"
      },
      "execution_count": null,
      "outputs": [
        {
          "output_type": "execute_result",
          "data": {
            "text/plain": [
              "5"
            ]
          },
          "metadata": {},
          "execution_count": 3
        }
      ]
    },
    {
      "cell_type": "markdown",
      "source": [
        "Question no 4: Suppose you have a tuple my_tuple = (10, 20, 30, 40, 50), how can you slice the tuple to obtain (20, 30, 40)? Write a Python program to achieve this."
      ],
      "metadata": {
        "id": "sMkPxtZ2R0d6"
      }
    },
    {
      "cell_type": "code",
      "source": [
        "my_tuple = (10, 20, 30, 40, 50)\n",
        "my_tuple[1:4]"
      ],
      "metadata": {
        "colab": {
          "base_uri": "https://localhost:8080/"
        },
        "id": "4Q9ZNEKAR4ny",
        "outputId": "9b8cd9c9-d643-4cfa-ac4b-ee9c3d557aa1"
      },
      "execution_count": null,
      "outputs": [
        {
          "output_type": "execute_result",
          "data": {
            "text/plain": [
              "(20, 30, 40)"
            ]
          },
          "metadata": {},
          "execution_count": 4
        }
      ]
    },
    {
      "cell_type": "markdown",
      "source": [
        "Question no 5: Given a tuple my_tuple = (1, 2, 3, 4, 5), how can you access the last element without knowing its index? Write a Python program to achieve this."
      ],
      "metadata": {
        "id": "ZO2vQWl5SJSq"
      }
    },
    {
      "cell_type": "code",
      "source": [
        "my_tuple = (1, 2, 3, 4, 5)\n",
        "my_tuple[-1]"
      ],
      "metadata": {
        "colab": {
          "base_uri": "https://localhost:8080/"
        },
        "id": "m6HpLtA7SMzq",
        "outputId": "ddfba6cb-de40-447b-c296-0b8d016b749e"
      },
      "execution_count": null,
      "outputs": [
        {
          "output_type": "execute_result",
          "data": {
            "text/plain": [
              "5"
            ]
          },
          "metadata": {},
          "execution_count": 5
        }
      ]
    },
    {
      "cell_type": "markdown",
      "source": [
        "Question no 6: Suppose you have two tuples tuple1 = (10, 20, 30) and tuple2 = (40, 50, 60), how can you concatenate them into a single tuple? Write a Python program to achieve this."
      ],
      "metadata": {
        "id": "-JVHqn2mSpxk"
      }
    },
    {
      "cell_type": "code",
      "source": [
        "tuple1 = (10, 20, 30)\n",
        "tuple2 = (40, 50, 60)\n",
        "tuple= tuple1+tuple2\n",
        "print(tuple)"
      ],
      "metadata": {
        "colab": {
          "base_uri": "https://localhost:8080/"
        },
        "id": "tTuYWsSGSvkC",
        "outputId": "cbb9df97-cf11-4431-c82f-e2d9c1ddb2cc"
      },
      "execution_count": null,
      "outputs": [
        {
          "output_type": "stream",
          "name": "stdout",
          "text": [
            "(10, 20, 30, 40, 50, 60)\n"
          ]
        }
      ]
    },
    {
      "cell_type": "markdown",
      "source": [
        "Question no 7: Given a tuple my_tuple = ('a', 'b', 'c', 'd', 'e'), how can you check if the element 'c' exists in the tuple? Write a Python program to achieve this."
      ],
      "metadata": {
        "id": "65ZNxrazTEb1"
      }
    },
    {
      "cell_type": "code",
      "source": [
        "my_tuple = ('a', 'b', 'c', 'd', 'e')\n",
        "if 'c' in my_tuple:\n",
        "  print(\"'c' exist\")\n",
        "else:\n",
        "  print(\"'c' does not exist\")"
      ],
      "metadata": {
        "colab": {
          "base_uri": "https://localhost:8080/"
        },
        "id": "QJklJlXTTI3y",
        "outputId": "f3aa7178-3e03-4fd1-eae9-43d1cb0b63eb"
      },
      "execution_count": null,
      "outputs": [
        {
          "output_type": "stream",
          "name": "stdout",
          "text": [
            "'c' exist\n"
          ]
        }
      ]
    },
    {
      "cell_type": "markdown",
      "source": [
        "Question no 8: Suppose you have a tuple my_tuple = ('apple', 'banana', 'cherry', 'apple'), how can you count the number of occurrences of 'apple' in the tuple? Write a Python program to achieve this.\n"
      ],
      "metadata": {
        "id": "fKId7mZiTpVb"
      }
    },
    {
      "cell_type": "code",
      "source": [
        "my_tuple = ('apple', 'banana', 'cherry', 'apple')\n",
        "my_tuple.count('apple')\n"
      ],
      "metadata": {
        "colab": {
          "base_uri": "https://localhost:8080/"
        },
        "id": "nhNnlHUgTuM9",
        "outputId": "e8db5f47-7768-444d-939e-e50be0937d3e"
      },
      "execution_count": null,
      "outputs": [
        {
          "output_type": "execute_result",
          "data": {
            "text/plain": [
              "2"
            ]
          },
          "metadata": {},
          "execution_count": 9
        }
      ]
    },
    {
      "cell_type": "markdown",
      "source": [
        "Question no 9: Given a tuple my_tuple = (3.14, 'hello', True, (1, 2, 3)), how can you access the nested tuple (1, 2, 3) from it? Write a Python program to achieve this."
      ],
      "metadata": {
        "id": "v4rn2N0HT78J"
      }
    },
    {
      "cell_type": "code",
      "source": [
        "my_tuple = (3.14, 'hello', True, (1, 2, 3))\n",
        "my_tuple[3]"
      ],
      "metadata": {
        "colab": {
          "base_uri": "https://localhost:8080/"
        },
        "id": "MULgK0IDUACQ",
        "outputId": "1f3c6d34-0a71-48a3-c048-21edd4e3532b"
      },
      "execution_count": null,
      "outputs": [
        {
          "output_type": "execute_result",
          "data": {
            "text/plain": [
              "(1, 2, 3)"
            ]
          },
          "metadata": {},
          "execution_count": 10
        }
      ]
    },
    {
      "cell_type": "markdown",
      "source": [
        "Question no 10: Suppose you have a tuple my_tuple = (10, 20, 30), how can you convert it into a list? Write a Python program to achieve this."
      ],
      "metadata": {
        "id": "82saxnW-UMpm"
      }
    },
    {
      "cell_type": "code",
      "source": [
        "my_tuple = (10, 20, 30)\n",
        "my_list=list(my_tuple)\n",
        "print(my_list)"
      ],
      "metadata": {
        "colab": {
          "base_uri": "https://localhost:8080/"
        },
        "id": "OZcM9ONCUP54",
        "outputId": "de14b75b-e68d-4ded-b409-a3b4ebec4889"
      },
      "execution_count": null,
      "outputs": [
        {
          "output_type": "stream",
          "name": "stdout",
          "text": [
            "[10, 20, 30]\n"
          ]
        }
      ]
    },
    {
      "cell_type": "markdown",
      "source": [
        "Question no 12: Suppose you have a tuple my_tuple = (10, 20, 30, 40, 50), how can you find the smallest and largest elements in the tuple? Write a Python program to achieve this."
      ],
      "metadata": {
        "id": "SFGSJJITUg7S"
      }
    },
    {
      "cell_type": "code",
      "source": [
        "my_tuple = (10, 20, 30, 40, 50)\n",
        "a=min(my_tuple)\n",
        "print(a,\"is smallest element in the tuple.\")\n",
        "b=max(my_tuple)\n",
        "print(b,\"is largest element in the tuple.\")\n"
      ],
      "metadata": {
        "colab": {
          "base_uri": "https://localhost:8080/"
        },
        "id": "qLnNygENUkVB",
        "outputId": "a6b3329b-0159-4360-bff1-081a0ce8ab06"
      },
      "execution_count": null,
      "outputs": [
        {
          "output_type": "stream",
          "name": "stdout",
          "text": [
            "10 is smallest element in the tuple.\n",
            "50 is largest element in the tuple.\n"
          ]
        }
      ]
    },
    {
      "cell_type": "markdown",
      "source": [
        "Question no 15: Given two tuples tuple1 = (1, 2, 3) and tuple2 = (4, 5, 6), how can you check if the two tuples are equal? Write a Python program to achieve this."
      ],
      "metadata": {
        "id": "bL3q75ZZVK1j"
      }
    },
    {
      "cell_type": "code",
      "source": [
        "tuple1 = (1, 2, 3)\n",
        "tuple2 = (4, 5, 6)\n",
        "if tuple1==tuple2:\n",
        "  print(\"tuples are equal\")\n",
        "else:\n",
        "  print(\"tuples are not equal\")"
      ],
      "metadata": {
        "colab": {
          "base_uri": "https://localhost:8080/"
        },
        "id": "vx9TOibPVN73",
        "outputId": "91a2749a-7635-4eca-cb89-be10bb46c291"
      },
      "execution_count": null,
      "outputs": [
        {
          "output_type": "stream",
          "name": "stdout",
          "text": [
            "tuples are not equal\n"
          ]
        }
      ]
    }
  ]
}