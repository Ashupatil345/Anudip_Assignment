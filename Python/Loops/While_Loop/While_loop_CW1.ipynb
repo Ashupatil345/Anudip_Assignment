{
  "nbformat": 4,
  "nbformat_minor": 0,
  "metadata": {
    "colab": {
      "provenance": []
    },
    "kernelspec": {
      "name": "python3",
      "display_name": "Python 3"
    },
    "language_info": {
      "name": "python"
    }
  },
  "cells": [
    {
      "cell_type": "markdown",
      "source": [
        "Q1: Write a Python program to print numbers from 1 to 5 using a while loop."
      ],
      "metadata": {
        "id": "VkDG4VUjriKa"
      }
    },
    {
      "cell_type": "code",
      "source": [
        "i=1\n",
        "while i<=5:\n",
        "  print(i)\n",
        "  i+=1"
      ],
      "metadata": {
        "colab": {
          "base_uri": "https://localhost:8080/"
        },
        "id": "gWtI1-o-ssSA",
        "outputId": "5706d60a-5674-4eb0-afe9-a60cf65f76ae"
      },
      "execution_count": null,
      "outputs": [
        {
          "output_type": "stream",
          "name": "stdout",
          "text": [
            "1\n",
            "2\n",
            "3\n",
            "4\n",
            "5\n"
          ]
        }
      ]
    },
    {
      "cell_type": "markdown",
      "source": [
        "Q2: Write a Python program to print the first 10 even numbers using a while loop."
      ],
      "metadata": {
        "id": "qMB75PHQs8N2"
      }
    },
    {
      "cell_type": "code",
      "source": [
        "i=2\n",
        "while i<=20:\n",
        "  print(i)\n",
        "  i+=2"
      ],
      "metadata": {
        "colab": {
          "base_uri": "https://localhost:8080/"
        },
        "id": "K0n3Kiq3tCMj",
        "outputId": "473f78fa-7109-4b1a-9a61-33c710aa18f9"
      },
      "execution_count": null,
      "outputs": [
        {
          "output_type": "stream",
          "name": "stdout",
          "text": [
            "2\n",
            "4\n",
            "6\n",
            "8\n",
            "10\n",
            "12\n",
            "14\n",
            "16\n",
            "18\n",
            "20\n"
          ]
        }
      ]
    },
    {
      "cell_type": "markdown",
      "source": [
        "Q3: Write a Python program to print the first 5 odd numbers using a while loop."
      ],
      "metadata": {
        "id": "ldbPRlaYtSh8"
      }
    },
    {
      "cell_type": "code",
      "source": [
        "i=1\n",
        "while i<=10:\n",
        "  print(i)\n",
        "  i+=2"
      ],
      "metadata": {
        "colab": {
          "base_uri": "https://localhost:8080/"
        },
        "id": "Duy9N9vitWAU",
        "outputId": "483617f7-3582-4f22-8753-f5fe82f6a4fa"
      },
      "execution_count": null,
      "outputs": [
        {
          "output_type": "stream",
          "name": "stdout",
          "text": [
            "1\n",
            "3\n",
            "5\n",
            "7\n",
            "9\n"
          ]
        }
      ]
    },
    {
      "cell_type": "markdown",
      "source": [
        "Q4: Write a Python program to print the multiplication table of 3 using a while loop (from 3x1 to 3x10)."
      ],
      "metadata": {
        "id": "k6pFOfgTtg4g"
      }
    },
    {
      "cell_type": "code",
      "source": [
        "mul = 3\n",
        "count = 1\n",
        "while count <= 10:\n",
        "    print(mul, \"x\" ,count, \"=\" ,mul * count)\n",
        "    count += 1"
      ],
      "metadata": {
        "colab": {
          "base_uri": "https://localhost:8080/"
        },
        "id": "C91LW_cGuTuK",
        "outputId": "7ba6b82b-1905-4e28-a15d-ec2acab3ca4a"
      },
      "execution_count": null,
      "outputs": [
        {
          "output_type": "stream",
          "name": "stdout",
          "text": [
            "3 x 1 = 3\n",
            "3 x 2 = 6\n",
            "3 x 3 = 9\n",
            "3 x 4 = 12\n",
            "3 x 5 = 15\n",
            "3 x 6 = 18\n",
            "3 x 7 = 21\n",
            "3 x 8 = 24\n",
            "3 x 9 = 27\n",
            "3 x 10 = 30\n"
          ]
        }
      ]
    },
    {
      "cell_type": "markdown",
      "source": [
        "Q5: Write a Python program to print numbers from 10 down to 1 using a while loop."
      ],
      "metadata": {
        "id": "wQQe-NLbu3cy"
      }
    },
    {
      "cell_type": "code",
      "source": [
        "i=10\n",
        "while i>=1:\n",
        "  print(i)\n",
        "  i-=1"
      ],
      "metadata": {
        "colab": {
          "base_uri": "https://localhost:8080/"
        },
        "id": "FMKdYtM7u_JR",
        "outputId": "712eecca-6389-415a-cb02-8dc957316d7a"
      },
      "execution_count": null,
      "outputs": [
        {
          "output_type": "stream",
          "name": "stdout",
          "text": [
            "10\n",
            "9\n",
            "8\n",
            "7\n",
            "6\n",
            "5\n",
            "4\n",
            "3\n",
            "2\n",
            "1\n"
          ]
        }
      ]
    },
    {
      "cell_type": "markdown",
      "source": [
        "Q6: Write a Python program to calculate the sum of numbers from 1 to 10 using a while loop."
      ],
      "metadata": {
        "id": "Trs_wIEovaYY"
      }
    },
    {
      "cell_type": "code",
      "source": [
        "sum_numbers = 0\n",
        "i = 1\n",
        "while i <= 10:\n",
        "    sum_numbers += i\n",
        "    i += 1\n",
        "print(\"The sum of numbers from 1 to 10 is:\", sum_numbers)"
      ],
      "metadata": {
        "colab": {
          "base_uri": "https://localhost:8080/"
        },
        "id": "IT4QdRCdvdni",
        "outputId": "ee722cf4-c764-4e4b-b87e-3e9a207539ed"
      },
      "execution_count": null,
      "outputs": [
        {
          "output_type": "stream",
          "name": "stdout",
          "text": [
            "The sum of numbers from 1 to 10 is: 55\n"
          ]
        }
      ]
    },
    {
      "cell_type": "markdown",
      "source": [
        "Q7: Write a Python program to print all numbers from 1 to 50 that are divisible by 5 using a while loop."
      ],
      "metadata": {
        "id": "HTJJJCdVwM7j"
      }
    },
    {
      "cell_type": "code",
      "source": [
        "i = 1\n",
        "while i <= 50:\n",
        "    if i % 5 == 0:\n",
        "        print(i)\n",
        "    i += 1"
      ],
      "metadata": {
        "colab": {
          "base_uri": "https://localhost:8080/"
        },
        "id": "GuW57rJewSgt",
        "outputId": "f2552c3c-22be-4a84-d837-ff024afc8ef0"
      },
      "execution_count": null,
      "outputs": [
        {
          "output_type": "stream",
          "name": "stdout",
          "text": [
            "5\n",
            "10\n",
            "15\n",
            "20\n",
            "25\n",
            "30\n",
            "35\n",
            "40\n",
            "45\n",
            "50\n"
          ]
        }
      ]
    },
    {
      "cell_type": "markdown",
      "source": [
        "Q8: Write a Python program to print numbers between 1 and 20 that are multiples of 3 using a while loop."
      ],
      "metadata": {
        "id": "K-HpQaOsw4mz"
      }
    },
    {
      "cell_type": "code",
      "source": [
        "i = 1\n",
        "while i <= 20:\n",
        "    if i % 3 == 0:\n",
        "        print(i)\n",
        "    i += 1"
      ],
      "metadata": {
        "colab": {
          "base_uri": "https://localhost:8080/"
        },
        "id": "-C6ButNyxAfT",
        "outputId": "c1481878-90d8-4f15-da88-c3f06e5c6c62"
      },
      "execution_count": null,
      "outputs": [
        {
          "output_type": "stream",
          "name": "stdout",
          "text": [
            "3\n",
            "6\n",
            "9\n",
            "12\n",
            "15\n",
            "18\n"
          ]
        }
      ]
    },
    {
      "cell_type": "markdown",
      "source": [
        "Q9: Write a Python program to find the factorial of a number using a while loop."
      ],
      "metadata": {
        "id": "wO_Xmo5BxLay"
      }
    },
    {
      "cell_type": "code",
      "source": [
        "num = int(input(\"Enter a number to find its factorial: \"))\n",
        "factorial = 1\n",
        "i = 1\n",
        "if num < 0:\n",
        "    print(\"Factorial is not defined for negative numbers.\")\n",
        "else:\n",
        "    while i <= num:\n",
        "        factorial *= i\n",
        "        i += 1\n",
        "    print(f\"The factorial of {num} is: {factorial}\")"
      ],
      "metadata": {
        "colab": {
          "base_uri": "https://localhost:8080/"
        },
        "id": "Z3qDXjIcxQWm",
        "outputId": "b8a3a7d5-c473-46a5-bb47-d41def67a34c"
      },
      "execution_count": null,
      "outputs": [
        {
          "output_type": "stream",
          "name": "stdout",
          "text": [
            "Enter a number to find its factorial: 8\n",
            "The factorial of 8 is: 40320\n"
          ]
        }
      ]
    },
    {
      "cell_type": "markdown",
      "source": [
        "Q10: Write a Python program to calculate the sum of digits of a number using a while loop."
      ],
      "metadata": {
        "id": "PTA0_rZRxmmr"
      }
    },
    {
      "cell_type": "code",
      "source": [
        "num = int(input(\"Enter a number to calculate the sum of its digits: \"))\n",
        "\n",
        "sum_digits = 0\n",
        "while num > 0:\n",
        "    digit = num % 10\n",
        "    sum_digits += digit\n",
        "    num //= 10\n",
        "print(f\"The sum of the digits is: {sum_digits}\")"
      ],
      "metadata": {
        "colab": {
          "base_uri": "https://localhost:8080/"
        },
        "id": "oBXFdKnmxqk8",
        "outputId": "e047e409-ce95-4003-9587-d764060b2936"
      },
      "execution_count": null,
      "outputs": [
        {
          "output_type": "stream",
          "name": "stdout",
          "text": [
            "Enter a number to calculate the sum of its digits: 9754\n",
            "The sum of the digits is: 25\n"
          ]
        }
      ]
    }
  ]
}