{
  "nbformat": 4,
  "nbformat_minor": 0,
  "metadata": {
    "colab": {
      "provenance": []
    },
    "kernelspec": {
      "name": "python3",
      "display_name": "Python 3"
    },
    "language_info": {
      "name": "python"
    }
  },
  "cells": [
    {
      "cell_type": "markdown",
      "source": [
        "###Question 1: Define a class named Car with attributes make, model, and year. Include a method called get_info() that prints out the details of the car."
      ],
      "metadata": {
        "id": "hh8XkHb9qNM1"
      }
    },
    {
      "cell_type": "code",
      "source": [
        "class car:\n",
        "  def __init__(self,make,model,year):\n",
        "    self.make = make\n",
        "    self.model = model\n",
        "    self.year = model\n",
        "\n",
        "  def get_info(self):\n",
        "    print(\"The name of the compony is\",self.make , \"And the model is \",self.model,\" Which is manufactured in the year of \",self.year)"
      ],
      "metadata": {
        "id": "_rCFvB6MqI9f"
      },
      "execution_count": null,
      "outputs": []
    },
    {
      "cell_type": "code",
      "source": [
        "car1 = car(\"suzuki\",\"swift\",2013)\n",
        "car1.get_info()"
      ],
      "metadata": {
        "colab": {
          "base_uri": "https://localhost:8080/"
        },
        "id": "DzyJAXUDsPmh",
        "outputId": "2d8aaef5-c35c-4155-cc91-695c17da0946"
      },
      "execution_count": null,
      "outputs": [
        {
          "output_type": "stream",
          "name": "stdout",
          "text": [
            "The name of the compony is suzuki And the model is  swift  Which is manufactured in the year of  swift\n"
          ]
        }
      ]
    },
    {
      "cell_type": "markdown",
      "source": [
        "###Question 2: Create a class named Rectangle with attributes length and width. Include methods to calculate the area and perimeter of the rectangle."
      ],
      "metadata": {
        "id": "gZG_AMnws7MT"
      }
    },
    {
      "cell_type": "code",
      "source": [
        "class Rectangle:\n",
        "  def __init__(self,length,width):\n",
        "    self.length = length\n",
        "    self.width = width\n",
        "\n",
        "  def area(self):\n",
        "    print(\"Area of rectangle is= \",self.width*self.length)\n",
        "  def perimeter(self):\n",
        "    print(\"perimeter of rectangle is= \",2*(self.width+self.length))"
      ],
      "metadata": {
        "id": "LU6Orz7Ws0R3"
      },
      "execution_count": null,
      "outputs": []
    },
    {
      "cell_type": "code",
      "source": [
        "rectangle = Rectangle(4,6)\n",
        "rectangle.area()\n",
        "rectangle.perimeter()"
      ],
      "metadata": {
        "colab": {
          "base_uri": "https://localhost:8080/"
        },
        "id": "ZdsTvL8_ty_G",
        "outputId": "95269813-e5c6-47f8-9dc1-bd346c1b8b50"
      },
      "execution_count": null,
      "outputs": [
        {
          "output_type": "stream",
          "name": "stdout",
          "text": [
            "Area of rectangle is=  24\n",
            "perimeter of rectangle is=  20\n"
          ]
        }
      ]
    },
    {
      "cell_type": "markdown",
      "source": [
        "###Question 4: Create a class named BankAccount with attributes account_number, holder_name, and balance. Include methods to deposit money, withdraw money, and check the balance. Create an instance of the BankAccount class, deposit  100,withdraw 50, and then print the remaining balance."
      ],
      "metadata": {
        "id": "z5Q2IJ4buSyv"
      }
    },
    {
      "cell_type": "code",
      "source": [
        " class BankAccount:\n",
        "    def __init__(self,account_number, holder_name, balance):\n",
        "      self.ac = account_number\n",
        "      self.name = holder_name\n",
        "      self.balance = balance\n",
        "\n",
        "    def deposite(self,amount):\n",
        "      self.balance = self.balance + amount\n",
        "      print(\"Now we have deposited \",amount,\"And current balance is\", self.balance )\n",
        "\n",
        "    def withdraw(self,amount):\n",
        "      self.balance = self.balance - amount\n",
        "      print(\"Now we have withdraw \",amount,\"And current balance is\", self.balance )\n",
        "\n",
        "\n"
      ],
      "metadata": {
        "id": "Oc1BW3t5w2Y8"
      },
      "execution_count": null,
      "outputs": []
    },
    {
      "cell_type": "markdown",
      "source": [
        "###Question 5: Define a class named Circle with attributes radius and color. Include methods to calculate the area and circumference of the circle. Create an instance of the Circle class with radius 5 and color \"blue\", then print its area and circumference.\n"
      ],
      "metadata": {
        "id": "bKcAL6lAFNju"
      }
    },
    {
      "cell_type": "code",
      "source": [
        "class Circle:\n",
        "  def __init__(self,radius,color):\n",
        "    self.radius=radius\n",
        "    self.color=color\n",
        "\n",
        "  def area(self):\n",
        "    area = 3.14 * self.radius * self.radius\n",
        "    print(\"Area is \",area)\n",
        "\n",
        "  def circumference(self):\n",
        "   circumference = 2* 3.14 * self.radius\n",
        "   print(\"Area of circumference of circle is = \",circumference)\n"
      ],
      "metadata": {
        "id": "O__mVlTQROp7"
      },
      "execution_count": null,
      "outputs": []
    },
    {
      "cell_type": "code",
      "source": [
        "cir = Circle(5,\"Blue\")\n",
        "cir.area()\n",
        "cir.circumference()"
      ],
      "metadata": {
        "colab": {
          "base_uri": "https://localhost:8080/"
        },
        "id": "LRgjgQMgRQ8Q",
        "outputId": "0d8d3cec-fce9-42f9-8778-b238d0fa286f"
      },
      "execution_count": null,
      "outputs": [
        {
          "output_type": "stream",
          "name": "stdout",
          "text": [
            "Area is  78.5\n",
            "Area of circumference of circle is =  31.400000000000002\n"
          ]
        }
      ]
    },
    {
      "cell_type": "markdown",
      "source": [
        "###Question 6: Create a class named Book with attributes title, author, and price. Include a method called discount() that takes a percentage discount as an argument and updates the price accordingly. Create an instance of the Book class and call the discount() method with a 20% discount."
      ],
      "metadata": {
        "id": "qkMGDE8XFZqB"
      }
    },
    {
      "cell_type": "code",
      "source": [
        "class Book:\n",
        "    def __init__(self, title, author, price):\n",
        "        self.title = title\n",
        "        self.author = author\n",
        "        self.price = price\n",
        "\n",
        "    def discount(self, percentage):\n",
        "        self.price -= self.price * (percentage / 100)\n",
        "\n",
        "# Creating an instance of the Book class\n",
        "book = Book(\"The Great Gatsby\", \"F. Scott Fitzgerald\", 20.00)\n",
        "\n",
        "# Applying a 20% discount\n",
        "book.discount(20)\n",
        "\n",
        "# Printing the updated price\n",
        "print(f\"Title: {book.title}, Author: {book.author}, Price after discount: ${book.price:.2f}\")\n"
      ],
      "metadata": {
        "colab": {
          "base_uri": "https://localhost:8080/"
        },
        "id": "fIYPHuw9PgSw",
        "outputId": "ea6b14ed-fe87-4652-d132-337318e7cd5d"
      },
      "execution_count": null,
      "outputs": [
        {
          "output_type": "stream",
          "name": "stdout",
          "text": [
            "Title: The Great Gatsby, Author: F. Scott Fitzgerald, Price after discount: $16.00\n"
          ]
        }
      ]
    },
    {
      "cell_type": "markdown",
      "source": [
        "###Question 7: Define a class called Student with attributes name, age, and grades. Include a method called calculate_average() that computes the average grade of the student. Create an instance of the Student class with name \"Alice\", age 20, and grades [90, 85, 88], then print the average grade."
      ],
      "metadata": {
        "id": "Xy6HIroiQAga"
      }
    },
    {
      "cell_type": "code",
      "source": [
        "class Student:\n",
        "    def __init__(self, name, age, grades):\n",
        "        self.name = name\n",
        "        self.age = age\n",
        "        self.grades = grades\n",
        "\n",
        "    def calculate_average(self):\n",
        "      average = sum(self.grades) / len(self.grades)\n",
        "      print(\"The average is\",average)\n",
        "\n",
        "student = Student(\"Alice\", 20, [90, 85, 88]) # Creating an instance of the Student class\n",
        "\n",
        "average_grade = student.calculate_average() # Calculating and printing the average grade\n"
      ],
      "metadata": {
        "colab": {
          "base_uri": "https://localhost:8080/"
        },
        "id": "56W9HbnwSdkC",
        "outputId": "67cbfb94-1d7f-4898-b5a3-0566caf37497"
      },
      "execution_count": null,
      "outputs": [
        {
          "output_type": "stream",
          "name": "stdout",
          "text": [
            "The average is 87.66666666666667\n"
          ]
        }
      ]
    },
    {
      "cell_type": "markdown",
      "source": [
        "###Question 8: Create a class named Rectangle with attributes length and width. Include methods to calculate the area, perimeter, and diagonal of the rectangle. Create an instance of the Rectangle class with length 4 and width 3, then print its area, perimeter, and diagonal."
      ],
      "metadata": {
        "id": "TdTDQlk4T803"
      }
    },
    {
      "cell_type": "code",
      "source": [
        "class Rectangle:\n",
        "  def __init__(self,length,width):\n",
        "    self.length=length\n",
        "    self.width=width\n",
        "\n",
        "  def area(self):\n",
        "    area = self.length * self.width\n",
        "    print(\"Area of rectangle is \",area)\n",
        "\n",
        "  def perimeter(self):\n",
        "    Perimeter =2*(self.length+self.width)\n",
        "    print(\"Perimeter of rectangle is\",Perimeter)\n",
        "\n",
        "  def diagonal(self):\n",
        "    Diagonal = (self.length**2 + self.width**2)\n",
        "    print(\"Diagonals of rectangle is \",Diagonal)\n",
        "\n",
        "rect = Rectangle(4,3)\n",
        "rect.area()\n",
        "rect.perimeter()\n",
        "rect.diagonal()\n"
      ],
      "metadata": {
        "id": "5ztIVGqEUBJb",
        "colab": {
          "base_uri": "https://localhost:8080/"
        },
        "outputId": "ea6eed54-a5a3-41ba-86ac-5cf5c6c87fb0"
      },
      "execution_count": null,
      "outputs": [
        {
          "output_type": "stream",
          "name": "stdout",
          "text": [
            "Area of rectangle is  12\n",
            "Perimeter of rectangle is 14\n",
            "Diagonals of rectangle is  25\n"
          ]
        }
      ]
    },
    {
      "cell_type": "markdown",
      "source": [
        "###Question 9: Define a class named Person with attributes name, age, and gender. Include methods to update the age and display information about the person. Create an instance of the Person class with name \"Alice\", age 25, and gender \"Female\". Update the age to 30 and display the information about the person.\n"
      ],
      "metadata": {
        "id": "M8adrjFNtW4D"
      }
    },
    {
      "cell_type": "code",
      "source": [
        "class Person:\n",
        "  def __init__(self,name,age,gender):\n",
        "    self.name=name\n",
        "    self.age=age\n",
        "    self.gender=gender\n",
        "\n",
        "  def display_info(self):\n",
        "    print(\"Name of person is\",self.name,\"And his age is\",self.age,\"Also his gender is\",self.gender)\n",
        "\n",
        "  def update_age(self,new_age):\n",
        "    self.age = new_age\n",
        "\n",
        "person = Person(\"Alice\",25,\"Female\")\n",
        "person.update_age(30)\n",
        "person.display_info()\n"
      ],
      "metadata": {
        "colab": {
          "base_uri": "https://localhost:8080/"
        },
        "id": "SkSOb3BKtWar",
        "outputId": "6244e711-fbbb-4f63-d3f6-c4ec07b50f13"
      },
      "execution_count": null,
      "outputs": [
        {
          "output_type": "stream",
          "name": "stdout",
          "text": [
            "Name of person is Alice And his age is 30 Also his gender is Female\n"
          ]
        }
      ]
    },
    {
      "cell_type": "markdown",
      "source": [
        "###Question 10: Create a class named BankAccount with attributes account_number, account_holder, and balance. Include methods to deposit and withdraw money, and to display the account details. Create two instances of the BankAccount class, one for savings account and one for checking account, and perform deposit and withdrawal operations on each."
      ],
      "metadata": {
        "id": "1VA75MrPvmDd"
      }
    },
    {
      "cell_type": "code",
      "source": [
        "class BankAccount:\n",
        "  def __init__(self,account_number, holder_name,  balance):\n",
        "    self.ac=account_number\n",
        "    self.name=holder_name\n",
        "    self.balance=balance\n",
        "  def deposit(self,amount):\n",
        "    print(\"The previous Balance was \",self.balance)\n",
        "    self.balance = self.balance + amount\n",
        "    print(\"Now we have deposited \",amount ,\"And the current balance is \",self.balance)\n",
        "\n",
        "  def withdraw(self,amount):\n",
        "    if amount>self.balance:\n",
        "      print(\"Insufficient Funds !!!!!!!!!!!\")\n",
        "      print(\"You can only withdraw \",self.balance)\n",
        "    else:\n",
        "      print(\"The previous Balance was \",self.balance)\n",
        "      self.balance = self.balance - amount\n",
        "      print(\"Now we have withdraw \",amount ,\"And the current balance is \",self.balance)\n",
        "\n",
        "  def check_balance(self):\n",
        "    print(\"Name of account holder is \",self.name)\n",
        "    print(\"Account number =\",self.ac)\n",
        "    print(\"And the current balance is =\",self.balance)"
      ],
      "metadata": {
        "id": "P1nqQULZdRvo"
      },
      "execution_count": null,
      "outputs": []
    },
    {
      "cell_type": "code",
      "source": [
        "saving_account=BankAccount(\"S0001\",\"Pranav\",50000)\n",
        "current_balance=BankAccount(\"S0002\",\"Asif\",80000)"
      ],
      "metadata": {
        "id": "z0gvXm26dfBH"
      },
      "execution_count": null,
      "outputs": []
    },
    {
      "cell_type": "code",
      "source": [
        "saving_account.deposit(30000)\n",
        "current_balance.deposit(20000)"
      ],
      "metadata": {
        "colab": {
          "base_uri": "https://localhost:8080/"
        },
        "id": "ogPM7kFqdlY4",
        "outputId": "78e4a2e1-f97b-4669-f455-8e9e15fffe5a"
      },
      "execution_count": null,
      "outputs": [
        {
          "output_type": "stream",
          "name": "stdout",
          "text": [
            "The previous Balance was  50000\n",
            "Now we have deposited  30000 And the current balance is  80000\n",
            "The previous Balance was  80000\n",
            "Now we have deposited  20000 And the current balance is  100000\n"
          ]
        }
      ]
    },
    {
      "cell_type": "code",
      "source": [
        "saving_account.withdraw(50000)\n",
        "current_balance.withdraw(70000)"
      ],
      "metadata": {
        "colab": {
          "base_uri": "https://localhost:8080/"
        },
        "id": "xboiQY5Ydqes",
        "outputId": "0080da83-433e-4e4c-ca88-e4f2c9e44653"
      },
      "execution_count": null,
      "outputs": [
        {
          "output_type": "stream",
          "name": "stdout",
          "text": [
            "The previous Balance was  80000\n",
            "Now we have withdraw  50000 And the current balance is  30000\n",
            "The previous Balance was  100000\n",
            "Now we have withdraw  70000 And the current balance is  30000\n"
          ]
        }
      ]
    },
    {
      "cell_type": "markdown",
      "source": [
        "###Question 11: Define a class called Rectangle with attributes length and width. Include methods to calculate the area and perimeter of the rectangle, and to display its dimensions. Create an instance of the Rectangle class with length 4 and width 5, then print its area, perimeter, and dimensions."
      ],
      "metadata": {
        "id": "qQGvvgEy2cHU"
      }
    },
    {
      "cell_type": "code",
      "source": [
        "class Rectangle:\n",
        "  def __init__(self,length,width):\n",
        "    self.length = length\n",
        "    self.width = width\n",
        "\n",
        "  def area(self):\n",
        "    area = self.length * self.width\n",
        "    print(\"Area of rectangle is \",area)\n",
        "\n",
        "  def perimeter(self):\n",
        "    perimeter = 2 * (self.length + self.width)\n",
        "    print(\"Perimeter of rectangle is \",perimeter)\n",
        "\n",
        "  def dimention(self):\n",
        "    print(f\"Length: {self.length} units\")  #The f tells Python to look for expressions inside {} and insert their values into the string.\n",
        "    print(f\"Width: {self.width} units\")\n",
        "\n",
        "rectangle = Rectangle(4,5)\n",
        "rectangle.area()\n",
        "rectangle.perimeter()\n",
        "rectangle.dimention()"
      ],
      "metadata": {
        "colab": {
          "base_uri": "https://localhost:8080/"
        },
        "id": "mmZJ4SJE2bnV",
        "outputId": "593e6491-351c-4e32-a773-8ead99fee61d"
      },
      "execution_count": null,
      "outputs": [
        {
          "output_type": "stream",
          "name": "stdout",
          "text": [
            "Area of rectangle is  20\n",
            "Perimeter of rectangle is  18\n",
            "Length: 4 units\n",
            "Width: 5 units\n"
          ]
        }
      ]
    },
    {
      "cell_type": "markdown",
      "source": [
        "###Question 12: Create a class named Student with attributes name, roll_number, and grades. Include methods to add grades, calculate the average grade, and display the student's information. Create an instance of the Student class with name \"John\", roll number \"12345\", and grades [85, 90, 88]. Add another grade (95), calculate the average grade, and display the student's information."
      ],
      "metadata": {
        "id": "SQGC7uuE5wGK"
      }
    },
    {
      "cell_type": "code",
      "source": [
        "class Student:\n",
        "    def __init__(self, name, roll_number, grades):\n",
        "        self.name = name\n",
        "        self.roll_number = roll_number\n",
        "        self.grades = grades\n",
        "\n",
        "    def add_grade(self, grade):\n",
        "        self.grades.append(grade)\n",
        "\n",
        "    def calculate_average(self):\n",
        "        return sum(self.grades) / len(self.grades)\n",
        "\n",
        "    def display_info(self):\n",
        "        print(f\"Name: {self.name}\")\n",
        "        print(f\"Roll Number: {self.roll_number}\")\n",
        "        print(f\"Grades: {self.grades}\")\n",
        "        print(f\"Average Grade: {self.calculate_average():.2f}\")\n",
        "\n",
        "student = Student(\"John\", \"12345\", [85, 90, 88])\n",
        "student.add_grade(95)\n",
        "student.display_info()\n"
      ],
      "metadata": {
        "colab": {
          "base_uri": "https://localhost:8080/"
        },
        "id": "2NU08z3dDHCp",
        "outputId": "5fb5033b-2a81-416b-e82f-b336d998d989"
      },
      "execution_count": null,
      "outputs": [
        {
          "output_type": "stream",
          "name": "stdout",
          "text": [
            "Name: John\n",
            "Roll Number: 12345\n",
            "Grades: [85, 90, 88, 95]\n",
            "Average Grade: 89.50\n"
          ]
        }
      ]
    },
    {
      "cell_type": "markdown",
      "source": [
        "###Question 13: Define a class called Triangle with attributes side1, side2, and side3. Include methods to check if the triangle is valid, calculate its perimeter, area, and display its sides. Create an instance of the Triangle class with side lengths 3, 4, and 5, then check if it is valid, calculate its perimeter and area, and display its sides."
      ],
      "metadata": {
        "id": "LiVoZ72cGyyy"
      }
    },
    {
      "cell_type": "code",
      "source": [
        "class Triangle:\n",
        "  def __init__ (self,s1,s2,s3):\n",
        "    self.s1=s1\n",
        "    self.s2=s2\n",
        "    self.s3=s3\n",
        "  def valid(self):\n",
        "    if (self.s1 + self.s2 > self.s3)and (self.s1+self.s3 > self.s2) and (self.s2+self.s3 > self.s1):\n",
        "      print(\"It is a valid Triangle =\")\n",
        "    else:\n",
        "      print(\"Its is invalid !!\")\n",
        "  def calculate_perimeter(self):\n",
        "    return self.s1 + self.s2 + self.s3\n",
        "\n",
        "  def calculate_area(self):\n",
        "      s = self.calculate_perimeter() / 2\n",
        "      return (s * (s - self.s1) * (s - self.s2) * (s - self.s3)) ** 0.5\n",
        "\n",
        "  def display_sides(self):\n",
        "      print(f\"Side 1: {self.s1}, Side 2: {self.s2}, Side 3: {self.s3}\")\n"
      ],
      "metadata": {
        "id": "S3i2wbCnd7rK"
      },
      "execution_count": null,
      "outputs": []
    },
    {
      "cell_type": "code",
      "source": [
        "tr=Triangle(10,8,9)\n"
      ],
      "metadata": {
        "id": "Qmul0SZod96i"
      },
      "execution_count": null,
      "outputs": []
    },
    {
      "cell_type": "code",
      "source": [
        "tr.valid()"
      ],
      "metadata": {
        "colab": {
          "base_uri": "https://localhost:8080/"
        },
        "id": "Y1i8R9KgeEpa",
        "outputId": "509169c0-7095-4155-deb2-84560a70a75b"
      },
      "execution_count": null,
      "outputs": [
        {
          "output_type": "stream",
          "name": "stdout",
          "text": [
            "It is a valid Triangle =\n"
          ]
        }
      ]
    },
    {
      "cell_type": "code",
      "source": [
        "tr.calculate_area()"
      ],
      "metadata": {
        "colab": {
          "base_uri": "https://localhost:8080/"
        },
        "id": "JYhkZxJFeKZm",
        "outputId": "9bad89e7-c0e6-47ed-a6bf-fdc460591a1d"
      },
      "execution_count": null,
      "outputs": [
        {
          "output_type": "execute_result",
          "data": {
            "text/plain": [
              "34.197039345533994"
            ]
          },
          "metadata": {},
          "execution_count": 10
        }
      ]
    },
    {
      "cell_type": "code",
      "source": [
        "tr.calculate_perimeter()"
      ],
      "metadata": {
        "colab": {
          "base_uri": "https://localhost:8080/"
        },
        "id": "YkS996iSeMe7",
        "outputId": "5bf4bdd8-4596-4d35-e49e-d27959b901c8"
      },
      "execution_count": null,
      "outputs": [
        {
          "output_type": "execute_result",
          "data": {
            "text/plain": [
              "27"
            ]
          },
          "metadata": {},
          "execution_count": 11
        }
      ]
    }
  ]
}