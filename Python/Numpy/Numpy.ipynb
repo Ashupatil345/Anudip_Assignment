{
  "nbformat": 4,
  "nbformat_minor": 0,
  "metadata": {
    "colab": {
      "provenance": []
    },
    "kernelspec": {
      "name": "python3",
      "display_name": "Python 3"
    },
    "language_info": {
      "name": "python"
    }
  },
  "cells": [
    {
      "cell_type": "markdown",
      "source": [
        "Question 1: Create a NumPy array with 5 elements initialized with zeros."
      ],
      "metadata": {
        "id": "ls8XEXRP5TDo"
      }
    },
    {
      "cell_type": "code",
      "execution_count": null,
      "metadata": {
        "id": "dkTVr_n65Mpc"
      },
      "outputs": [],
      "source": [
        "import numpy as np"
      ]
    },
    {
      "cell_type": "code",
      "source": [
        "array = np.zeros(5)\n",
        "print(array)"
      ],
      "metadata": {
        "colab": {
          "base_uri": "https://localhost:8080/"
        },
        "id": "ak3MuLSr5oDL",
        "outputId": "8cd3a88e-4c86-4a23-df9f-82de706ced8b"
      },
      "execution_count": null,
      "outputs": [
        {
          "output_type": "stream",
          "name": "stdout",
          "text": [
            "[0. 0. 0. 0. 0.]\n"
          ]
        }
      ]
    },
    {
      "cell_type": "markdown",
      "source": [
        "Question 2: Create a NumPy array with 3 rows and 4 columns initialized with ones.\n"
      ],
      "metadata": {
        "id": "AKrfxjGK59RL"
      }
    },
    {
      "cell_type": "code",
      "source": [
        "array = np.ones((3, 4))\n",
        "print(array)\n"
      ],
      "metadata": {
        "colab": {
          "base_uri": "https://localhost:8080/"
        },
        "id": "yeN94gv26Beg",
        "outputId": "961d1b2e-f6a7-43ff-cdfb-dda48ebff0a3"
      },
      "execution_count": null,
      "outputs": [
        {
          "output_type": "stream",
          "name": "stdout",
          "text": [
            "[[1. 1. 1. 1.]\n",
            " [1. 1. 1. 1.]\n",
            " [1. 1. 1. 1.]]\n"
          ]
        }
      ]
    },
    {
      "cell_type": "markdown",
      "source": [
        "Question 3: Create a 1D NumPy array containing numbers from 1 to 10."
      ],
      "metadata": {
        "id": "Is2d9K846jlt"
      }
    },
    {
      "cell_type": "code",
      "source": [
        "one_d =np.array([1,2,3,4,5,6,7,8,9,10])\n",
        "print(one_d)"
      ],
      "metadata": {
        "colab": {
          "base_uri": "https://localhost:8080/"
        },
        "id": "WVUJ9Qen6pXU",
        "outputId": "849a5702-accd-49b6-d503-33c3963c95e2"
      },
      "execution_count": null,
      "outputs": [
        {
          "output_type": "stream",
          "name": "stdout",
          "text": [
            "[ 1  2  3  4  5  6  7  8  9 10]\n"
          ]
        }
      ]
    },
    {
      "cell_type": "markdown",
      "source": [
        "Question 4: Create a 2D NumPy array with dimensions 3x3 containing numbers from 1 to 9."
      ],
      "metadata": {
        "id": "Q0aduxny7BqA"
      }
    },
    {
      "cell_type": "code",
      "source": [
        "two_d = np.arange(1, 10).reshape(3, 3)\n",
        "print(two_d)"
      ],
      "metadata": {
        "colab": {
          "base_uri": "https://localhost:8080/"
        },
        "id": "R_KtZdRU7FU4",
        "outputId": "ffd1dec0-37c2-494d-f6dd-4b7185848930"
      },
      "execution_count": null,
      "outputs": [
        {
          "output_type": "stream",
          "name": "stdout",
          "text": [
            "[[1 2 3]\n",
            " [4 5 6]\n",
            " [7 8 9]]\n"
          ]
        }
      ]
    },
    {
      "cell_type": "markdown",
      "source": [
        "Question 5: Create a 3D NumPy array with dimensions 2x3x4 containing random integers between 0 and 9."
      ],
      "metadata": {
        "id": "0aLLaMnO7enj"
      }
    },
    {
      "cell_type": "code",
      "source": [
        "array = np.random.randint(0, 10, size=(2, 3, 4))\n",
        "\n",
        "print(array)"
      ],
      "metadata": {
        "colab": {
          "base_uri": "https://localhost:8080/"
        },
        "id": "Z-S8nKVc7iMh",
        "outputId": "32b3112b-fa5b-4ec3-d88e-f0647edc6d4e"
      },
      "execution_count": null,
      "outputs": [
        {
          "output_type": "stream",
          "name": "stdout",
          "text": [
            "[[[5 5 0 3]\n",
            "  [2 3 4 8]\n",
            "  [2 3 1 1]]\n",
            "\n",
            " [[8 4 0 0]\n",
            "  [7 4 6 7]\n",
            "  [0 4 8 4]]]\n"
          ]
        }
      ]
    },
    {
      "cell_type": "markdown",
      "source": [
        "Question 6: Create a NumPy array from a list containing elements [1, 2, 3, 4, 5].\n"
      ],
      "metadata": {
        "id": "ttdfFBr-76SM"
      }
    },
    {
      "cell_type": "code",
      "source": [
        "array = np.array([1, 2, 3, 4, 5])\n",
        "print(array)"
      ],
      "metadata": {
        "colab": {
          "base_uri": "https://localhost:8080/"
        },
        "id": "SJkYG_zF8DiP",
        "outputId": "ad980472-0f7f-4e83-df2c-254ee3cae07e"
      },
      "execution_count": null,
      "outputs": [
        {
          "output_type": "stream",
          "name": "stdout",
          "text": [
            "[1 2 3 4 5]\n"
          ]
        }
      ]
    },
    {
      "cell_type": "markdown",
      "source": [
        "Question 7: Convert a tuple (6, 7, 8, 9, 10) into a NumPy array."
      ],
      "metadata": {
        "id": "Ok9krd0V8GmQ"
      }
    },
    {
      "cell_type": "code",
      "source": [
        "a=(6,7,8,9,10)\n",
        "b=np.array(a)\n",
        "print(b)"
      ],
      "metadata": {
        "colab": {
          "base_uri": "https://localhost:8080/"
        },
        "id": "YKgOnih38KWL",
        "outputId": "623062b5-0afd-4ad9-88b8-faee8bb2f948"
      },
      "execution_count": null,
      "outputs": [
        {
          "output_type": "stream",
          "name": "stdout",
          "text": [
            "[ 6  7  8  9 10]\n"
          ]
        }
      ]
    },
    {
      "cell_type": "markdown",
      "source": [
        "Question 8: Create a NumPy array with shape (4, 2) containing numbers from 0 to 7.\n"
      ],
      "metadata": {
        "id": "nl2hfOjq8a8r"
      }
    },
    {
      "cell_type": "code",
      "source": [
        "array = np.arange(8).reshape(4, 2)\n",
        "print(array)"
      ],
      "metadata": {
        "colab": {
          "base_uri": "https://localhost:8080/"
        },
        "id": "8Cckxooo8ecw",
        "outputId": "1a9c19f4-2463-4544-9651-0c6e7fcc02b7"
      },
      "execution_count": null,
      "outputs": [
        {
          "output_type": "stream",
          "name": "stdout",
          "text": [
            "[[0 1]\n",
            " [2 3]\n",
            " [4 5]\n",
            " [6 7]]\n"
          ]
        }
      ]
    },
    {
      "cell_type": "markdown",
      "source": [
        "Question 9: Create a 3D NumPy array with shape (2, 3, 4) initialized with zeros.\n"
      ],
      "metadata": {
        "id": "9OfUDR208m0k"
      }
    },
    {
      "cell_type": "code",
      "source": [
        "array = np.zeros((2, 3, 4))\n",
        "print(array)"
      ],
      "metadata": {
        "colab": {
          "base_uri": "https://localhost:8080/"
        },
        "id": "PDB8Cggn8qPj",
        "outputId": "ec723cf8-43db-4ca2-a164-ecf00dc86ac6"
      },
      "execution_count": null,
      "outputs": [
        {
          "output_type": "stream",
          "name": "stdout",
          "text": [
            "[[[0. 0. 0. 0.]\n",
            "  [0. 0. 0. 0.]\n",
            "  [0. 0. 0. 0.]]\n",
            "\n",
            " [[0. 0. 0. 0.]\n",
            "  [0. 0. 0. 0.]\n",
            "  [0. 0. 0. 0.]]]\n"
          ]
        }
      ]
    },
    {
      "cell_type": "markdown",
      "source": [
        "Question 10: Create a 2D NumPy array with shape (3, 3) containing random floating-point numbers between 0 and 1.\n"
      ],
      "metadata": {
        "id": "aev5ZHbZ8zjW"
      }
    },
    {
      "cell_type": "code",
      "source": [
        "array = np.random.rand(3, 3)\n",
        "print(array)"
      ],
      "metadata": {
        "colab": {
          "base_uri": "https://localhost:8080/"
        },
        "id": "V-7tyeKB838m",
        "outputId": "baf8784f-a9e7-419d-e693-bc0b32267fe3"
      },
      "execution_count": null,
      "outputs": [
        {
          "output_type": "stream",
          "name": "stdout",
          "text": [
            "[[0.87693603 0.81778806 0.68553621]\n",
            " [0.7607883  0.3078153  0.80833298]\n",
            " [0.49300924 0.30582528 0.84850514]]\n"
          ]
        }
      ]
    },
    {
      "cell_type": "markdown",
      "source": [
        "Question 11: Create a NumPy array with shape (5,) containing numbers from 10 to 50, incrementing by 5.\n"
      ],
      "metadata": {
        "id": "DQAuwpUd9Cly"
      }
    },
    {
      "cell_type": "code",
      "source": [
        "array = np.arange(10, 50, 5)\n",
        "print(array)"
      ],
      "metadata": {
        "colab": {
          "base_uri": "https://localhost:8080/"
        },
        "id": "JyIEkWRl9rTZ",
        "outputId": "ebaeff4a-dc4b-424c-a2ee-d67b10fac68a"
      },
      "execution_count": null,
      "outputs": [
        {
          "output_type": "stream",
          "name": "stdout",
          "text": [
            "[10 15 20 25 30 35 40 45]\n"
          ]
        }
      ]
    },
    {
      "cell_type": "markdown",
      "source": [
        "Question 12: Create a NumPy array with shape (2, 5) containing numbers from -2 to 7.\n"
      ],
      "metadata": {
        "id": "Zr6u6xa896cd"
      }
    },
    {
      "cell_type": "code",
      "source": [
        "array = np.arange(-2, 8).reshape(2, 5)\n",
        "print(array)"
      ],
      "metadata": {
        "colab": {
          "base_uri": "https://localhost:8080/"
        },
        "id": "A0tF5yw7-HOC",
        "outputId": "54304ca4-a73c-4b62-beb9-f9ed296ff0e9"
      },
      "execution_count": null,
      "outputs": [
        {
          "output_type": "stream",
          "name": "stdout",
          "text": [
            "[[-2 -1  0  1  2]\n",
            " [ 3  4  5  6  7]]\n"
          ]
        }
      ]
    },
    {
      "cell_type": "markdown",
      "source": [
        "Question 13: Create a 1D NumPy array with shape (10,) containing numbers from 100 to 109, and change its data type to float.\n"
      ],
      "metadata": {
        "id": "gTbIRnyY-LOT"
      }
    },
    {
      "cell_type": "code",
      "source": [
        "array = np.arange(100, 110)\n",
        "print(array)\n",
        "array1 = array.astype(float)\n",
        "print(array1)"
      ],
      "metadata": {
        "colab": {
          "base_uri": "https://localhost:8080/"
        },
        "id": "kw5E6Omf-R6h",
        "outputId": "b83abb09-b502-497b-cd17-c1f2f00745dc"
      },
      "execution_count": null,
      "outputs": [
        {
          "output_type": "stream",
          "name": "stdout",
          "text": [
            "[100 101 102 103 104 105 106 107 108 109]\n",
            "[100. 101. 102. 103. 104. 105. 106. 107. 108. 109.]\n"
          ]
        }
      ]
    },
    {
      "cell_type": "markdown",
      "source": [
        "Question 14: Create a 2D NumPy array with shape (3, 4) initialized with ones, and then change its data type to int.\n"
      ],
      "metadata": {
        "id": "oaI1tgG5-mDO"
      }
    },
    {
      "cell_type": "code",
      "source": [
        "array = np.ones((3, 4))\n",
        "print(array)\n",
        "array1 = array.astype(int)\n",
        "\n",
        "print(array1)"
      ],
      "metadata": {
        "colab": {
          "base_uri": "https://localhost:8080/"
        },
        "id": "EkaYST1m-r9Z",
        "outputId": "5a9ee47e-66e7-4784-a495-88363e4553e5"
      },
      "execution_count": null,
      "outputs": [
        {
          "output_type": "stream",
          "name": "stdout",
          "text": [
            "[[1. 1. 1. 1.]\n",
            " [1. 1. 1. 1.]\n",
            " [1. 1. 1. 1.]]\n",
            "[[1 1 1 1]\n",
            " [1 1 1 1]\n",
            " [1 1 1 1]]\n"
          ]
        }
      ]
    },
    {
      "cell_type": "markdown",
      "source": [
        "Question 15: Create a 3D NumPy array with shape (2, 2, 3) initialized with specified numbers [[1, 2, 3], [4, 5, 6]], and [[7, 8, 9], [10, 11, 12]]."
      ],
      "metadata": {
        "id": "87NA7LWX-_Xq"
      }
    },
    {
      "cell_type": "code",
      "source": [
        "array = np.array([[[1, 2, 3], [4, 5, 6]],\n",
        "                  [[7, 8, 9], [10, 11, 12]]])\n",
        "print(array)"
      ],
      "metadata": {
        "colab": {
          "base_uri": "https://localhost:8080/"
        },
        "id": "Tf3eG6v2_EVo",
        "outputId": "59ff119e-b4c9-49af-b569-b9ae3477e286"
      },
      "execution_count": null,
      "outputs": [
        {
          "output_type": "stream",
          "name": "stdout",
          "text": [
            "[[[ 1  2  3]\n",
            "  [ 4  5  6]]\n",
            "\n",
            " [[ 7  8  9]\n",
            "  [10 11 12]]]\n"
          ]
        }
      ]
    }
  ]
}