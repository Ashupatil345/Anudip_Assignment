{
  "nbformat": 4,
  "nbformat_minor": 0,
  "metadata": {
    "colab": {
      "provenance": []
    },
    "kernelspec": {
      "name": "python3",
      "display_name": "Python 3"
    },
    "language_info": {
      "name": "python"
    }
  },
  "cells": [
    {
      "cell_type": "markdown",
      "source": [
        "###1.Write a Python program that checks if a given number is even. If it is, print \"Even number\"."
      ],
      "metadata": {
        "id": "wExIf8ABPljM"
      }
    },
    {
      "cell_type": "code",
      "execution_count": null,
      "metadata": {
        "colab": {
          "base_uri": "https://localhost:8080/"
        },
        "id": "zd4a2MN6PgNp",
        "outputId": "b89aaf07-0f7b-4fd8-c342-31bfe0ffdb54"
      },
      "outputs": [
        {
          "output_type": "stream",
          "name": "stdout",
          "text": [
            "Enter a number:4\n",
            "Even number\n"
          ]
        }
      ],
      "source": [
        "num=int(input(\"Enter a number:\"))\n",
        "if num>0:\n",
        "  print(\"Even number\")"
      ]
    },
    {
      "cell_type": "markdown",
      "source": [
        "###2.Write a Python program that checks if a given string contains the letter 'a'. If it does, print \"String contains 'a'\"."
      ],
      "metadata": {
        "id": "-_anFBs5QgZp"
      }
    },
    {
      "cell_type": "code",
      "source": [
        "def check_string(input_string):\n",
        "    if 'a' in input_string:\n",
        "        print(\"String contains 'a'\")\n",
        "\n",
        "input_string = input(\"Enter a string: \")\n",
        "check_string(input_string)\n"
      ],
      "metadata": {
        "colab": {
          "base_uri": "https://localhost:8080/"
        },
        "id": "VHqmoteYQfx4",
        "outputId": "18797ff5-1f27-48c5-c614-675979779308"
      },
      "execution_count": null,
      "outputs": [
        {
          "output_type": "stream",
          "name": "stdout",
          "text": [
            "Enter a string: ashutosh\n",
            "String contains 'a'\n"
          ]
        }
      ]
    },
    {
      "cell_type": "markdown",
      "source": [
        "###3: Write a Python program that checks if a given year is a leap year. If it is, print \"Leap year\"."
      ],
      "metadata": {
        "id": "CyRC4ohpaTw8"
      }
    },
    {
      "cell_type": "code",
      "source": [
        "\n",
        "def check_leap_year(year):\n",
        "    if (year % 4 == 0 and year % 100 != 0) :\n",
        "        print(\"Leap year\")\n",
        "year = int(input(\"Enter a year: \"))\n",
        "check_leap_year(year)\n"
      ],
      "metadata": {
        "colab": {
          "base_uri": "https://localhost:8080/"
        },
        "id": "dmKWBunCaelx",
        "outputId": "43abb0dd-8dc4-4060-d406-1d755259803b"
      },
      "execution_count": null,
      "outputs": [
        {
          "output_type": "stream",
          "name": "stdout",
          "text": [
            "Enter a year: 2016\n",
            "Leap year\n"
          ]
        }
      ]
    },
    {
      "cell_type": "markdown",
      "source": [
        "###4: Write a Python program that checks if a given number is positive. If it is, print \"Positive number\"."
      ],
      "metadata": {
        "id": "ZDl3f949bLRA"
      }
    },
    {
      "cell_type": "code",
      "source": [
        "num=int(input(\"Enter a number:\"))\n",
        "if num>0:\n",
        "  print(\"Positive number\")"
      ],
      "metadata": {
        "colab": {
          "base_uri": "https://localhost:8080/"
        },
        "id": "eAko9KhbbQD-",
        "outputId": "9e311b58-020a-4a10-ff24-652f2e031242"
      },
      "execution_count": null,
      "outputs": [
        {
          "output_type": "stream",
          "name": "stdout",
          "text": [
            "Enter a number:3\n",
            "Positive number\n"
          ]
        }
      ]
    },
    {
      "cell_type": "markdown",
      "source": [
        "###5: Write a Python program that checks if a given character is a vowel. If it is, print \"Vowel\"."
      ],
      "metadata": {
        "id": "UyslguubbuN5"
      }
    },
    {
      "cell_type": "code",
      "source": [
        "def check_vowel(char):\n",
        "    vowels = 'aeiouAEIOU'\n",
        "    if char in vowels:\n",
        "        print(\"Vowel\")\n",
        "    else:\n",
        "        print(\"Not a vowel\")\n",
        "char = input(\"Enter a character: \")\n",
        "if len(char) == 1:\n",
        "    check_vowel(char)\n",
        "\n"
      ],
      "metadata": {
        "colab": {
          "base_uri": "https://localhost:8080/"
        },
        "id": "OG6aGI2Ubz5i",
        "outputId": "69d4279d-7ec4-410b-bc7b-9e6ea45cda1e"
      },
      "execution_count": null,
      "outputs": [
        {
          "name": "stdout",
          "output_type": "stream",
          "text": [
            "Enter a character: ashu\n"
          ]
        }
      ]
    },
    {
      "cell_type": "markdown",
      "source": [
        "###6: Write a Python program that checks if a given number is greater than 100. If it is, print \"Greater than 100\"."
      ],
      "metadata": {
        "id": "oGYXjf1tfomY"
      }
    },
    {
      "cell_type": "code",
      "source": [
        "num=int(input(\"Enter a number:\"))\n",
        "if num>100:\n",
        "  print(\"Greater than 100\",)\n",
        "else:\n",
        "  print(\"Lower number\")"
      ],
      "metadata": {
        "colab": {
          "base_uri": "https://localhost:8080/"
        },
        "id": "eKtgAnVPfraQ",
        "outputId": "33b3c7db-f7c1-4932-ac86-b198c82476dd"
      },
      "execution_count": null,
      "outputs": [
        {
          "output_type": "stream",
          "name": "stdout",
          "text": [
            "Enter a number:34\n",
            "Lower number\n"
          ]
        }
      ]
    },
    {
      "cell_type": "markdown",
      "source": [
        " 7: Write a Python program that checks if a given string is empty. If it is, print \"Empty string\"."
      ],
      "metadata": {
        "id": "XiLXoyGdgTPv"
      }
    },
    {
      "cell_type": "code",
      "source": [
        "def check_empty_string(input_string):\n",
        "    if input_string == \"\":\n",
        "        print(\"Empty string\")\n",
        "    else:\n",
        "        print(\"String is not empty\")\n",
        "input_string = input(\"Enter a string: \")\n",
        "check_empty_string(input_string)\n"
      ],
      "metadata": {
        "colab": {
          "base_uri": "https://localhost:8080/"
        },
        "id": "J3jUH_Glgj88",
        "outputId": "c989027c-c807-4424-bb7a-019ac33775ed"
      },
      "execution_count": null,
      "outputs": [
        {
          "output_type": "stream",
          "name": "stdout",
          "text": [
            "Enter a string: ermt\n",
            "String is not empty\n"
          ]
        }
      ]
    },
    {
      "cell_type": "markdown",
      "source": [
        "###8: Write a Python program that checks if a given number is divisible by both 5 and 7. If it is, print \"Divisible by 5 and 7\"."
      ],
      "metadata": {
        "id": "_Emp_9kigv24"
      }
    },
    {
      "cell_type": "code",
      "source": [
        "number=int(input(\"Enter a number:\"))\n",
        "if number % 5 == 0 and number % 7 == 0:\n",
        "        print(\"Divisible by 5 and 7\")"
      ],
      "metadata": {
        "colab": {
          "base_uri": "https://localhost:8080/"
        },
        "id": "nJ4s-i86heBD",
        "outputId": "faf0f249-80d9-4b7f-bf9b-297f46dcee00"
      },
      "execution_count": null,
      "outputs": [
        {
          "output_type": "stream",
          "name": "stdout",
          "text": [
            "Enter a number:35\n",
            "Divisible by 5 and 7\n"
          ]
        }
      ]
    },
    {
      "cell_type": "markdown",
      "source": [
        "###9: Write a Python program that checks if a given list contains any negative numbers. If it does, print \"List contains negative numbers\"."
      ],
      "metadata": {
        "id": "Hb_oJgqniU1R"
      }
    },
    {
      "cell_type": "code",
      "source": [
        "def check_negative_numbers(num_list):\n",
        "    if any(num < 0 for num in num_list):\n",
        "        print(\"List contains negative numbers\")\n",
        "num_list = list(map(int, input(\"Enter numbers separated by spaces: \").split()))\n",
        "check_negative_numbers(num_list)\n"
      ],
      "metadata": {
        "colab": {
          "base_uri": "https://localhost:8080/"
        },
        "id": "o_tnAvR_imth",
        "outputId": "014f0595-9e8f-499f-8240-efda5e4f6907"
      },
      "execution_count": null,
      "outputs": [
        {
          "output_type": "stream",
          "name": "stdout",
          "text": [
            "Enter numbers separated by spaces: -4 8 5 9\n",
            "List contains negative numbers\n"
          ]
        }
      ]
    },
    {
      "cell_type": "markdown",
      "source": [
        "###10: Write a Python program that checks if a given word is a palindrome. If it is, print \"Palindrome\"."
      ],
      "metadata": {
        "id": "AEDRN0ffjBS6"
      }
    },
    {
      "cell_type": "code",
      "source": [
        "string = input(\"Enter a string = \")\n",
        "if string == string[::-1]:\n",
        "  print(\"Palindrome\")\n"
      ],
      "metadata": {
        "colab": {
          "base_uri": "https://localhost:8080/"
        },
        "id": "SCYPXtYSjHHd",
        "outputId": "26bb3c99-d070-4951-d2d9-4d729ab38a5b"
      },
      "execution_count": null,
      "outputs": [
        {
          "output_type": "stream",
          "name": "stdout",
          "text": [
            "Enter a string = kadak\n",
            "Palindrome\n"
          ]
        }
      ]
    },
    {
      "cell_type": "markdown",
      "source": [
        "###1: Write a Python program that checks if a given number is positive. If it is, print \"Positive number\"; otherwise, print \"Negative number\"."
      ],
      "metadata": {
        "id": "cXve2Nyojh-N"
      }
    },
    {
      "cell_type": "code",
      "source": [
        "num=int(input(\"Enter a number:\"))\n",
        "if num>0:\n",
        "  print(\"Positive number\")\n",
        "else:\n",
        "  print(\"Negative number\")"
      ],
      "metadata": {
        "colab": {
          "base_uri": "https://localhost:8080/"
        },
        "id": "xKVmrCd_jtwI",
        "outputId": "102d891b-2efd-4d32-9bc2-f42aac40ae99"
      },
      "execution_count": null,
      "outputs": [
        {
          "output_type": "stream",
          "name": "stdout",
          "text": [
            "Enter a number:-98\n",
            "Negative number\n"
          ]
        }
      ]
    },
    {
      "cell_type": "markdown",
      "source": [
        " ###2..Write a Python program that checks if a given string is empty. If it is, print \"Empty string\"; otherwise, print \"Non-empty string\"."
      ],
      "metadata": {
        "id": "jAn1Tg9Ok1MP"
      }
    },
    {
      "cell_type": "code",
      "source": [
        "def check_empty_string(input_string):\n",
        "    if input_string == \"\":\n",
        "        print(\"Empty string\")\n",
        "    else:\n",
        "        print(\"String is not empty\")\n",
        "input_string = input(\"Enter a string: \")\n",
        "check_empty_string(input_string)"
      ],
      "metadata": {
        "colab": {
          "base_uri": "https://localhost:8080/"
        },
        "id": "PkBuxKjlk5qI",
        "outputId": "4636b9f9-95c8-4f5f-f4a4-5701fe839e9c"
      },
      "execution_count": null,
      "outputs": [
        {
          "output_type": "stream",
          "name": "stdout",
          "text": [
            "Enter a string: 345\n",
            "String is not empty\n"
          ]
        }
      ]
    },
    {
      "cell_type": "markdown",
      "source": [
        "###3.Write a Python program that checks if a given number is even. If it is, print \"Even number\"; otherwise, print \"Odd number\"."
      ],
      "metadata": {
        "id": "oZfFmMdFlCu2"
      }
    },
    {
      "cell_type": "code",
      "source": [
        "num=int(input(\"Enter a num = \"))\n",
        "if num % 2 ==0:\n",
        "  print(\"Even num\")\n",
        "else:\n",
        "  print(\"Odd num\")"
      ],
      "metadata": {
        "colab": {
          "base_uri": "https://localhost:8080/"
        },
        "id": "2hm5RdPglNxK",
        "outputId": "82c0b544-dce8-4c13-c9c3-d24c8579530a"
      },
      "execution_count": null,
      "outputs": [
        {
          "output_type": "stream",
          "name": "stdout",
          "text": [
            "Enter a num = 45\n",
            "Odd num\n"
          ]
        }
      ]
    },
    {
      "cell_type": "markdown",
      "source": [
        "###4.Write a Python program that checks if a given character is a vowel. If it is, print \"Vowel\"; otherwise, print \"Consonant\"."
      ],
      "metadata": {
        "id": "-gom73pglV90"
      }
    },
    {
      "cell_type": "code",
      "source": [
        "def check_vowel(char):\n",
        "    vowels = 'aeiouAEIOU'\n",
        "    if char in vowels:\n",
        "        print(\"Vowel\")\n",
        "    else:\n",
        "        print(\"Consonant\")\n",
        "char = input(\"Enter a character: \")\n",
        "if len(char) == 1:\n",
        "    check_vowel(char)"
      ],
      "metadata": {
        "colab": {
          "base_uri": "https://localhost:8080/"
        },
        "id": "9TNxLS10lelT",
        "outputId": "76c29f6f-bd40-4def-fe34-0599a667ae97"
      },
      "execution_count": null,
      "outputs": [
        {
          "name": "stdout",
          "output_type": "stream",
          "text": [
            "Enter a character: w e  g t s\n"
          ]
        }
      ]
    },
    {
      "cell_type": "markdown",
      "source": [
        "###5: Write a Python program that checks if a given year is a leap year. If it is, print \"Leap year\"; otherwise, print \"Not a leap year\"."
      ],
      "metadata": {
        "id": "CmgIcbjvl9r1"
      }
    },
    {
      "cell_type": "code",
      "source": [
        "def check_leap_year(year):\n",
        "    if (year % 4 == 0 and year % 100 != 0) :\n",
        "        print(\"Leap year\")\n",
        "    else:\n",
        "      print(\"Not Leap year\")\n",
        "year = int(input(\"Enter a year: \"))\n",
        "check_leap_year(year)\n"
      ],
      "metadata": {
        "colab": {
          "base_uri": "https://localhost:8080/"
        },
        "id": "Nxwxxb9gn2wC",
        "outputId": "f1583ffa-c785-44f5-ae0b-765cfbd0ba46"
      },
      "execution_count": null,
      "outputs": [
        {
          "output_type": "stream",
          "name": "stdout",
          "text": [
            "Enter a year: 2013\n",
            "Not Leap year\n"
          ]
        }
      ]
    },
    {
      "cell_type": "markdown",
      "source": [
        " ###6: Write a Python program that checks if a given number is divisible by 3. If it is, print \"Divisible by 3\"; otherwise, print \"Not divisible by 3\"."
      ],
      "metadata": {
        "id": "l8cRpZLboL2T"
      }
    },
    {
      "cell_type": "code",
      "source": [
        "number=int(input(\"Enter a number:\"))\n",
        "if number % 3 == 0 :\n",
        "        print(\"Divisible by 3\")\n",
        "else:\n",
        "  print(\"Not divisible by 3\")"
      ],
      "metadata": {
        "colab": {
          "base_uri": "https://localhost:8080/"
        },
        "id": "jxtIOYW9oSOs",
        "outputId": "e3b1c00d-c42c-4c93-d52b-6f270efee2e6"
      },
      "execution_count": null,
      "outputs": [
        {
          "output_type": "stream",
          "name": "stdout",
          "text": [
            "Enter a number:45\n",
            "Divisible by 3\n"
          ]
        }
      ]
    },
    {
      "cell_type": "markdown",
      "source": [
        "### 7: Write a Python program that checks if a given string is a palindrome. If it is, print \"Palindrome\"; otherwise, print \"Not a palindrome\"."
      ],
      "metadata": {
        "id": "sIVFPzNRozTL"
      }
    },
    {
      "cell_type": "code",
      "source": [
        "string=(input(\"Enter a string:\"))\n",
        "if string == string[::-1]:\n",
        "  print(\"Palindrome\")\n",
        "else:\n",
        "  print(\"Not a palindrome\")\n"
      ],
      "metadata": {
        "colab": {
          "base_uri": "https://localhost:8080/"
        },
        "id": "8_kmwBd0o471",
        "outputId": "2fea3247-e38e-4df6-ab48-8d59a0b22f42"
      },
      "execution_count": null,
      "outputs": [
        {
          "output_type": "stream",
          "name": "stdout",
          "text": [
            "Enter a string:kadak\n",
            "Palindrome\n"
          ]
        }
      ]
    },
    {
      "cell_type": "markdown",
      "source": [
        "###8: Write a Python program that checks if a given list is empty. If it is, print \"Empty list\"; otherwise, print \"Non-empty list\"."
      ],
      "metadata": {
        "id": "dMpLqkftpmFZ"
      }
    },
    {
      "cell_type": "code",
      "source": [
        "def check_empty_string(input_string):\n",
        "    if input_string == \"\":\n",
        "        print(\"Empty string\")\n",
        "    else:\n",
        "        print(\"String is not empty\")\n",
        "input_string = input(\"Enter a string: \")\n",
        "check_empty_string(input_string)"
      ],
      "metadata": {
        "colab": {
          "base_uri": "https://localhost:8080/"
        },
        "id": "01ERDLiYps8H",
        "outputId": "cb471e51-ef3c-4bcc-9c85-26fbc53ef6d2"
      },
      "execution_count": null,
      "outputs": [
        {
          "output_type": "stream",
          "name": "stdout",
          "text": [
            "Enter a string:       \n",
            "String is not empty\n"
          ]
        }
      ]
    },
    {
      "cell_type": "markdown",
      "source": [
        " 9: Write a Python program that checks if a given number is greater than, less than, or equal to 50. Print the corresponding message."
      ],
      "metadata": {
        "id": "MY-HJvd5qxzX"
      }
    },
    {
      "cell_type": "code",
      "source": [
        "num=int(input(\"Enter a number:\"))\n",
        "if num>50:\n",
        "  print(\"Greater than 50\")\n",
        "else:\n",
        "  print(\"less than 50\")"
      ],
      "metadata": {
        "colab": {
          "base_uri": "https://localhost:8080/"
        },
        "id": "sAYDDRp3q5A4",
        "outputId": "f5b0c7dd-99f4-4752-ba37-7f6d39f6d1b5"
      },
      "execution_count": null,
      "outputs": [
        {
          "output_type": "stream",
          "name": "stdout",
          "text": [
            "Enter a number:56\n",
            "Greater than 50\n"
          ]
        }
      ]
    },
    {
      "cell_type": "markdown",
      "source": [
        "###10: Write a Python program that checks if a given character is an uppercase letter. If it is, print \"Uppercase\"; otherwise, print \"Lowercase\"."
      ],
      "metadata": {
        "id": "AbV9AIypsoIS"
      }
    },
    {
      "cell_type": "code",
      "source": [
        "char = input(\"Enter a character: \")\n",
        "if char.isupper():\n",
        "    print(\"Uppercase\")\n",
        "else:\n",
        "    print(\"Lowercase\")\n"
      ],
      "metadata": {
        "colab": {
          "base_uri": "https://localhost:8080/"
        },
        "id": "3iUQI2vUH9cO",
        "outputId": "67f8b256-a89f-4103-996c-9512b441593f"
      },
      "execution_count": null,
      "outputs": [
        {
          "output_type": "stream",
          "name": "stdout",
          "text": [
            "Enter a character: aShu\\\n",
            "Lowercase\n"
          ]
        }
      ]
    },
    {
      "cell_type": "markdown",
      "source": [
        "###1: Write a Python program that checks if a given number is positive, negative, or zero. Print the corresponding message."
      ],
      "metadata": {
        "id": "hfhJiEG1t5lD"
      }
    },
    {
      "cell_type": "code",
      "source": [
        "num=int(input(\"Enter a number:\"))\n",
        "if num>0:\n",
        "  print(\"Positive\")\n",
        "elif num == 0:\n",
        "  print(\"Zero\")\n",
        "else:\n",
        "  print(\"Negative\")"
      ],
      "metadata": {
        "colab": {
          "base_uri": "https://localhost:8080/"
        },
        "id": "ejvE4xQ0t_A0",
        "outputId": "30c27564-1854-4b9b-81c0-9ffc1085a9d7"
      },
      "execution_count": null,
      "outputs": [
        {
          "output_type": "stream",
          "name": "stdout",
          "text": [
            "Enter a number:0\n",
            "Zero\n"
          ]
        }
      ]
    },
    {
      "cell_type": "markdown",
      "source": [
        "###2: Write a Python program that compares two numbers and prints the larger number."
      ],
      "metadata": {
        "id": "SohJ9umWubsj"
      }
    },
    {
      "cell_type": "code",
      "source": [
        "num1=int(input(\"Enter 1st num = \"))\n",
        "num2=int(input(\"Enter 2nd num = \"))\n",
        "if num1>num2:\n",
        "  print(num1, 'is larger ')\n",
        "else:\n",
        "  print(num2, \"is larger\")"
      ],
      "metadata": {
        "colab": {
          "base_uri": "https://localhost:8080/"
        },
        "id": "1DM1Ys0VuhV1",
        "outputId": "b61ffbee-eff7-47ad-ea63-292feb969764"
      },
      "execution_count": null,
      "outputs": [
        {
          "output_type": "stream",
          "name": "stdout",
          "text": [
            "Enter 1st num = 45\n",
            "Enter 2nd num = 98\n",
            "98 is larger\n"
          ]
        }
      ]
    },
    {
      "cell_type": "markdown",
      "source": [
        "###3: Write a Python program that determines whether a given temperature is hot, warm, or cold. Print the corresponding message."
      ],
      "metadata": {
        "id": "lH1VAEwSusu6"
      }
    },
    {
      "cell_type": "code",
      "source": [
        "def categorize_temperature(temp):\n",
        "    if temp >= 30:\n",
        "        print(\"Hot\")\n",
        "    elif 15 <= temp < 30:\n",
        "        print(\"Warm\")\n",
        "    else:\n",
        "        print(\"Cold\")\n",
        "temp = float(input(\"Enter the temperature in degrees Celsius: \"))\n",
        "categorize_temperature(temp)"
      ],
      "metadata": {
        "colab": {
          "base_uri": "https://localhost:8080/"
        },
        "id": "daXpzuk6ux-v",
        "outputId": "acec1579-f6cd-4e13-d18d-c6db929bec61"
      },
      "execution_count": null,
      "outputs": [
        {
          "output_type": "stream",
          "name": "stdout",
          "text": [
            "Enter the temperature in degrees Celsius: 38\n",
            "Hot\n"
          ]
        }
      ]
    },
    {
      "cell_type": "markdown",
      "source": [
        "###4: Write a Python program that checks if a given year is a leap year, a century year, or neither. Print the corresponding message."
      ],
      "metadata": {
        "id": "AT6WWRigvXup"
      }
    },
    {
      "cell_type": "code",
      "source": [
        "year = int(input(\"Enter a year: \"))\n",
        "if year % 100 == 0:\n",
        "    if year % 400 == 0:\n",
        "        print(\"Leap year and a century year\")\n",
        "    else:\n",
        "        print(\"Century year but not a leap year\")\n",
        "else:\n",
        "    if year % 4 == 0:\n",
        "        print(\"Leap year\")\n",
        "    else:\n",
        "        print(\"Neither a leap year nor a century year\")"
      ],
      "metadata": {
        "id": "NFQhgMhRve4b",
        "colab": {
          "base_uri": "https://localhost:8080/"
        },
        "outputId": "435d731f-e5b8-4c6d-a360-07cc8bf2a009"
      },
      "execution_count": null,
      "outputs": [
        {
          "output_type": "stream",
          "name": "stdout",
          "text": [
            "Enter a year: 2018\n",
            "Neither a leap year nor a century year\n"
          ]
        }
      ]
    },
    {
      "cell_type": "markdown",
      "source": [
        "###5: Write a Python program that categorizes a given character into uppercase letter, lowercase letter, digit, or special character. Print the corresponding message."
      ],
      "metadata": {
        "id": "uFylnJuPwRdm"
      }
    },
    {
      "cell_type": "code",
      "source": [
        "def check_case(char):\n",
        "    if char.isupper():\n",
        "        print(\"Uppercase\")\n",
        "    elif char.isdigit():\n",
        "         print(\"digit or special character\")\n",
        "    else:\n",
        "        print(\"Lowercase\")\n",
        "char = input(\"Enter a character: \")\n",
        "if len(char) == 1 and char.isalpha():\n",
        "    check_case(char)\n",
        "else:\n",
        "    print(\"Please enter a valid single alphabetic character.\")\n"
      ],
      "metadata": {
        "colab": {
          "base_uri": "https://localhost:8080/"
        },
        "id": "hfDIlHk0wXGT",
        "outputId": "f360d9ff-b371-43db-9d5d-819f9e4410e1"
      },
      "execution_count": null,
      "outputs": [
        {
          "output_type": "stream",
          "name": "stdout",
          "text": [
            "Enter a character: Ashu@34\n",
            "Please enter a valid single alphabetic character.\n"
          ]
        }
      ]
    },
    {
      "cell_type": "markdown",
      "source": [
        "###Question 6: Write a Python program that calculates the discount percentage based on the purchase amount. Print the corresponding discount percentage.\n",
        "\n"
      ],
      "metadata": {
        "id": "-Dm_9y8D6Zz4"
      }
    },
    {
      "cell_type": "code",
      "source": [
        "purchase_amount = float(input(\"Enter the purchase amount: \"))\n",
        "if purchase_amount >= 1000:\n",
        "    discount = 20\n",
        "elif purchase_amount >= 500:\n",
        "    discount = 10\n",
        "elif purchase_amount >= 100:\n",
        "    discount = 5\n",
        "else:\n",
        "    discount = 0\n",
        "print(f\"The discount percentage is: {discount}%\")"
      ],
      "metadata": {
        "colab": {
          "base_uri": "https://localhost:8080/"
        },
        "id": "VT54jt456Nvv",
        "outputId": "b54ac61d-408c-4bea-cd46-c6303e509f70"
      },
      "execution_count": null,
      "outputs": [
        {
          "output_type": "stream",
          "name": "stdout",
          "text": [
            "Enter the purchase amount: 530\n",
            "The discount percentage is: 10%\n"
          ]
        }
      ]
    },
    {
      "cell_type": "markdown",
      "source": [
        "###Question 7: Write a Python program that checks if a given number is divisible by 2, 3, 5, or none of them. Print the corresponding message."
      ],
      "metadata": {
        "id": "76IuLPim6k30"
      }
    },
    {
      "cell_type": "code",
      "source": [
        "num=int(input(\"enter a number \"))\n",
        "if num%2==0:\n",
        "  print(\"divisible by 2\")\n",
        "elif num%3==0:\n",
        "  print(\"divisible by 3\")\n",
        "elif num%5==0:\n",
        "  print(\"divisible by 5\")\n",
        "else:\n",
        "  print(\"not divisible by 2,3 and 5\")"
      ],
      "metadata": {
        "colab": {
          "base_uri": "https://localhost:8080/"
        },
        "id": "beXRlgmU6ps-",
        "outputId": "7059d56a-8674-48ea-b6da-2c40912d66c9"
      },
      "execution_count": null,
      "outputs": [
        {
          "output_type": "stream",
          "name": "stdout",
          "text": [
            "enter a number 8\n",
            "divisible by 2\n"
          ]
        }
      ]
    },
    {
      "cell_type": "markdown",
      "source": [
        "###Question 8: Write a Python program that determines the grade based on the percentage obtained. Print the corresponding grade.\n",
        "\n"
      ],
      "metadata": {
        "id": "3pzptqx8632e"
      }
    },
    {
      "cell_type": "code",
      "source": [
        "per=int(input(\"enter percentage obtained \"))\n",
        "if per>75:\n",
        "  print(\"A grade\")\n",
        "elif per>60 and per<75:\n",
        "  print(\"B grade\")\n",
        "else:\n",
        "  print(\"C grade\")"
      ],
      "metadata": {
        "colab": {
          "base_uri": "https://localhost:8080/"
        },
        "id": "IpL0PTJI7Eim",
        "outputId": "18a83277-b058-46f2-c7f6-e54a86dc6f83"
      },
      "execution_count": null,
      "outputs": [
        {
          "output_type": "stream",
          "name": "stdout",
          "text": [
            "enter percentage obtained 75\n",
            "C grade\n"
          ]
        }
      ]
    },
    {
      "cell_type": "markdown",
      "source": [
        "###Question 9: Write a Python program that checks if a given number is within a specific range. Print the corresponding message\n"
      ],
      "metadata": {
        "id": "MCDeYUjz7Qqb"
      }
    },
    {
      "cell_type": "code",
      "source": [
        "number = float(input(\"Enter a number: \"))\n",
        "lower_limit = 10\n",
        "upper_limit = 50\n",
        "if lower_limit <= number <= upper_limit:\n",
        "    print(f\"The number {number} is within the range of {lower_limit} to {upper_limit}.\")\n",
        "else:\n",
        "    print(f\"The number {number} is outside the range of {lower_limit} to {upper_limit}.\")"
      ],
      "metadata": {
        "colab": {
          "base_uri": "https://localhost:8080/"
        },
        "id": "qeRFfQp57kbS",
        "outputId": "03105f84-43ac-4b9d-9704-19f5decd6b1f"
      },
      "execution_count": null,
      "outputs": [
        {
          "output_type": "stream",
          "name": "stdout",
          "text": [
            "Enter a number: 45\n",
            "The number 45.0 is within the range of 10 to 50.\n"
          ]
        }
      ]
    },
    {
      "cell_type": "markdown",
      "source": [
        "###Question 10: Write a Python program that checks if a given string is an English word, a number, or a combination of both. Print the corresponding message."
      ],
      "metadata": {
        "id": "hnF_ZMoI7tMJ"
      }
    },
    {
      "cell_type": "code",
      "source": [
        "english_words = {\"hello\", \"world\", \"python\", \"programming\", \"check\", \"example\"}\n",
        "input_string = input(\"Enter a string: \")\n",
        "if input_string.isdigit():\n",
        "    print(\"The input is a number.\")\n",
        "elif input_string.lower() in english_words:\n",
        "    print(\"The input is an English word.\")\n",
        "elif any(char.isdigit() for char in input_string) and any(char.isalpha() for char in input_string):\n",
        "    print(\"The input is a combination of an English word and a number.\")\n",
        "else:\n",
        "    print(\"The input is neither an English word nor a number.\")"
      ],
      "metadata": {
        "colab": {
          "base_uri": "https://localhost:8080/"
        },
        "id": "sqOAGTuM7zyj",
        "outputId": "be1d964c-1bb6-4076-8acf-32d79e57d9f5"
      },
      "execution_count": null,
      "outputs": [
        {
          "output_type": "stream",
          "name": "stdout",
          "text": [
            "Enter a string: 4\n",
            "The input is a number.\n"
          ]
        }
      ]
    }
  ]
}